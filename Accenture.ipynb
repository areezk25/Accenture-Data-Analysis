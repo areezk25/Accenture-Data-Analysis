{
 "cells": [
  {
   "cell_type": "code",
   "execution_count": 82,
   "metadata": {
    "collapsed": true,
    "ExecuteTime": {
     "end_time": "2024-04-23T19:47:36.998760400Z",
     "start_time": "2024-04-23T19:47:36.993337700Z"
    }
   },
   "outputs": [],
   "source": [
    "import pandas as pd\n",
    "import numpy as np"
   ]
  },
  {
   "cell_type": "markdown",
   "source": [],
   "metadata": {
    "collapsed": false
   }
  },
  {
   "cell_type": "code",
   "execution_count": 83,
   "outputs": [],
   "source": [
    "content = pd.read_csv('Content.csv')\n",
    "reactions = pd.read_csv('Reactions.csv')\n",
    "reaction_types = pd.read_csv('ReactionTypes.csv')"
   ],
   "metadata": {
    "collapsed": false,
    "ExecuteTime": {
     "end_time": "2024-04-23T19:47:38.369624200Z",
     "start_time": "2024-04-23T19:47:38.303228600Z"
    }
   }
  },
  {
   "cell_type": "code",
   "execution_count": 84,
   "outputs": [
    {
     "name": "stdout",
     "output_type": "stream",
     "text": [
      "<class 'pandas.core.frame.DataFrame'>\n",
      "RangeIndex: 1000 entries, 0 to 999\n",
      "Data columns (total 6 columns):\n",
      " #   Column      Non-Null Count  Dtype \n",
      "---  ------      --------------  ----- \n",
      " 0   Unnamed: 0  1000 non-null   int64 \n",
      " 1   Content ID  1000 non-null   object\n",
      " 2   User ID     1000 non-null   object\n",
      " 3   Type        1000 non-null   object\n",
      " 4   Category    1000 non-null   object\n",
      " 5   URL         801 non-null    object\n",
      "dtypes: int64(1), object(5)\n",
      "memory usage: 47.0+ KB\n"
     ]
    }
   ],
   "source": [
    "content.info()"
   ],
   "metadata": {
    "collapsed": false,
    "ExecuteTime": {
     "end_time": "2024-04-23T19:47:39.081413100Z",
     "start_time": "2024-04-23T19:47:39.063677700Z"
    }
   }
  },
  {
   "cell_type": "code",
   "execution_count": 85,
   "outputs": [
    {
     "data": {
      "text/plain": "   Unnamed: 0                            Content ID  \\\n0           0  97522e57-d9ab-4bd6-97bf-c24d952602d2   \n1           1  9f737e0a-3cdd-4d29-9d24-753f4e3be810   \n2           2  230c4e4d-70c3-461d-b42c-ec09396efb3f   \n3           3  356fff80-da4d-4785-9f43-bc1261031dc6   \n4           4  01ab84dd-6364-4236-abbb-3f237db77180   \n\n                                User ID   Type        Category  \\\n0  8d3cd87d-8a31-4935-9a4f-b319bfe05f31  photo        Studying   \n1  beb1f34e-7870-46d6-9fc7-2e12eb83ce43  photo  healthy eating   \n2  a5c65404-5894-4b87-82f2-d787cbee86b4  photo  healthy eating   \n3  9fb4ce88-fac1-406c-8544-1a899cee7aaf  photo      technology   \n4  e206e31b-5f85-4964-b6ea-d7ee5324def1  video            food   \n\n                                                 URL  \n0  https://socialbuzz.cdn.com/content/storage/975...  \n1  https://socialbuzz.cdn.com/content/storage/9f7...  \n2  https://socialbuzz.cdn.com/content/storage/230...  \n3  https://socialbuzz.cdn.com/content/storage/356...  \n4  https://socialbuzz.cdn.com/content/storage/01a...  ",
      "text/html": "<div>\n<style scoped>\n    .dataframe tbody tr th:only-of-type {\n        vertical-align: middle;\n    }\n\n    .dataframe tbody tr th {\n        vertical-align: top;\n    }\n\n    .dataframe thead th {\n        text-align: right;\n    }\n</style>\n<table border=\"1\" class=\"dataframe\">\n  <thead>\n    <tr style=\"text-align: right;\">\n      <th></th>\n      <th>Unnamed: 0</th>\n      <th>Content ID</th>\n      <th>User ID</th>\n      <th>Type</th>\n      <th>Category</th>\n      <th>URL</th>\n    </tr>\n  </thead>\n  <tbody>\n    <tr>\n      <th>0</th>\n      <td>0</td>\n      <td>97522e57-d9ab-4bd6-97bf-c24d952602d2</td>\n      <td>8d3cd87d-8a31-4935-9a4f-b319bfe05f31</td>\n      <td>photo</td>\n      <td>Studying</td>\n      <td>https://socialbuzz.cdn.com/content/storage/975...</td>\n    </tr>\n    <tr>\n      <th>1</th>\n      <td>1</td>\n      <td>9f737e0a-3cdd-4d29-9d24-753f4e3be810</td>\n      <td>beb1f34e-7870-46d6-9fc7-2e12eb83ce43</td>\n      <td>photo</td>\n      <td>healthy eating</td>\n      <td>https://socialbuzz.cdn.com/content/storage/9f7...</td>\n    </tr>\n    <tr>\n      <th>2</th>\n      <td>2</td>\n      <td>230c4e4d-70c3-461d-b42c-ec09396efb3f</td>\n      <td>a5c65404-5894-4b87-82f2-d787cbee86b4</td>\n      <td>photo</td>\n      <td>healthy eating</td>\n      <td>https://socialbuzz.cdn.com/content/storage/230...</td>\n    </tr>\n    <tr>\n      <th>3</th>\n      <td>3</td>\n      <td>356fff80-da4d-4785-9f43-bc1261031dc6</td>\n      <td>9fb4ce88-fac1-406c-8544-1a899cee7aaf</td>\n      <td>photo</td>\n      <td>technology</td>\n      <td>https://socialbuzz.cdn.com/content/storage/356...</td>\n    </tr>\n    <tr>\n      <th>4</th>\n      <td>4</td>\n      <td>01ab84dd-6364-4236-abbb-3f237db77180</td>\n      <td>e206e31b-5f85-4964-b6ea-d7ee5324def1</td>\n      <td>video</td>\n      <td>food</td>\n      <td>https://socialbuzz.cdn.com/content/storage/01a...</td>\n    </tr>\n  </tbody>\n</table>\n</div>"
     },
     "execution_count": 85,
     "metadata": {},
     "output_type": "execute_result"
    }
   ],
   "source": [
    "content.head()"
   ],
   "metadata": {
    "collapsed": false,
    "ExecuteTime": {
     "end_time": "2024-04-23T19:47:39.472002500Z",
     "start_time": "2024-04-23T19:47:39.458867600Z"
    }
   }
  },
  {
   "cell_type": "code",
   "execution_count": 86,
   "outputs": [
    {
     "data": {
      "text/plain": "        Unnamed: 0\ncount  1000.000000\nmean    499.500000\nstd     288.819436\nmin       0.000000\n25%     249.750000\n50%     499.500000\n75%     749.250000\nmax     999.000000",
      "text/html": "<div>\n<style scoped>\n    .dataframe tbody tr th:only-of-type {\n        vertical-align: middle;\n    }\n\n    .dataframe tbody tr th {\n        vertical-align: top;\n    }\n\n    .dataframe thead th {\n        text-align: right;\n    }\n</style>\n<table border=\"1\" class=\"dataframe\">\n  <thead>\n    <tr style=\"text-align: right;\">\n      <th></th>\n      <th>Unnamed: 0</th>\n    </tr>\n  </thead>\n  <tbody>\n    <tr>\n      <th>count</th>\n      <td>1000.000000</td>\n    </tr>\n    <tr>\n      <th>mean</th>\n      <td>499.500000</td>\n    </tr>\n    <tr>\n      <th>std</th>\n      <td>288.819436</td>\n    </tr>\n    <tr>\n      <th>min</th>\n      <td>0.000000</td>\n    </tr>\n    <tr>\n      <th>25%</th>\n      <td>249.750000</td>\n    </tr>\n    <tr>\n      <th>50%</th>\n      <td>499.500000</td>\n    </tr>\n    <tr>\n      <th>75%</th>\n      <td>749.250000</td>\n    </tr>\n    <tr>\n      <th>max</th>\n      <td>999.000000</td>\n    </tr>\n  </tbody>\n</table>\n</div>"
     },
     "execution_count": 86,
     "metadata": {},
     "output_type": "execute_result"
    }
   ],
   "source": [
    "content.describe()"
   ],
   "metadata": {
    "collapsed": false,
    "ExecuteTime": {
     "end_time": "2024-04-23T19:47:40.947326700Z",
     "start_time": "2024-04-23T19:47:40.935340400Z"
    }
   }
  },
  {
   "cell_type": "code",
   "execution_count": 87,
   "outputs": [],
   "source": [
    "content.drop('Unnamed: 0' , axis=1, inplace=True)"
   ],
   "metadata": {
    "collapsed": false,
    "ExecuteTime": {
     "end_time": "2024-04-23T19:47:41.784556Z",
     "start_time": "2024-04-23T19:47:41.774374400Z"
    }
   }
  },
  {
   "cell_type": "code",
   "execution_count": 88,
   "outputs": [],
   "source": [
    "content.drop('URL' , axis=1, inplace=True)"
   ],
   "metadata": {
    "collapsed": false,
    "ExecuteTime": {
     "end_time": "2024-04-23T19:47:42.142516100Z",
     "start_time": "2024-04-23T19:47:42.132502800Z"
    }
   }
  },
  {
   "cell_type": "code",
   "execution_count": 89,
   "outputs": [
    {
     "data": {
      "text/plain": "                             Content ID                               User ID  \\\n0  97522e57-d9ab-4bd6-97bf-c24d952602d2  8d3cd87d-8a31-4935-9a4f-b319bfe05f31   \n1  9f737e0a-3cdd-4d29-9d24-753f4e3be810  beb1f34e-7870-46d6-9fc7-2e12eb83ce43   \n2  230c4e4d-70c3-461d-b42c-ec09396efb3f  a5c65404-5894-4b87-82f2-d787cbee86b4   \n3  356fff80-da4d-4785-9f43-bc1261031dc6  9fb4ce88-fac1-406c-8544-1a899cee7aaf   \n4  01ab84dd-6364-4236-abbb-3f237db77180  e206e31b-5f85-4964-b6ea-d7ee5324def1   \n\n    Type        Category  \n0  photo        Studying  \n1  photo  healthy eating  \n2  photo  healthy eating  \n3  photo      technology  \n4  video            food  ",
      "text/html": "<div>\n<style scoped>\n    .dataframe tbody tr th:only-of-type {\n        vertical-align: middle;\n    }\n\n    .dataframe tbody tr th {\n        vertical-align: top;\n    }\n\n    .dataframe thead th {\n        text-align: right;\n    }\n</style>\n<table border=\"1\" class=\"dataframe\">\n  <thead>\n    <tr style=\"text-align: right;\">\n      <th></th>\n      <th>Content ID</th>\n      <th>User ID</th>\n      <th>Type</th>\n      <th>Category</th>\n    </tr>\n  </thead>\n  <tbody>\n    <tr>\n      <th>0</th>\n      <td>97522e57-d9ab-4bd6-97bf-c24d952602d2</td>\n      <td>8d3cd87d-8a31-4935-9a4f-b319bfe05f31</td>\n      <td>photo</td>\n      <td>Studying</td>\n    </tr>\n    <tr>\n      <th>1</th>\n      <td>9f737e0a-3cdd-4d29-9d24-753f4e3be810</td>\n      <td>beb1f34e-7870-46d6-9fc7-2e12eb83ce43</td>\n      <td>photo</td>\n      <td>healthy eating</td>\n    </tr>\n    <tr>\n      <th>2</th>\n      <td>230c4e4d-70c3-461d-b42c-ec09396efb3f</td>\n      <td>a5c65404-5894-4b87-82f2-d787cbee86b4</td>\n      <td>photo</td>\n      <td>healthy eating</td>\n    </tr>\n    <tr>\n      <th>3</th>\n      <td>356fff80-da4d-4785-9f43-bc1261031dc6</td>\n      <td>9fb4ce88-fac1-406c-8544-1a899cee7aaf</td>\n      <td>photo</td>\n      <td>technology</td>\n    </tr>\n    <tr>\n      <th>4</th>\n      <td>01ab84dd-6364-4236-abbb-3f237db77180</td>\n      <td>e206e31b-5f85-4964-b6ea-d7ee5324def1</td>\n      <td>video</td>\n      <td>food</td>\n    </tr>\n  </tbody>\n</table>\n</div>"
     },
     "execution_count": 89,
     "metadata": {},
     "output_type": "execute_result"
    }
   ],
   "source": [
    "content.head()"
   ],
   "metadata": {
    "collapsed": false,
    "ExecuteTime": {
     "end_time": "2024-04-23T19:47:42.937989700Z",
     "start_time": "2024-04-23T19:47:42.905710400Z"
    }
   }
  },
  {
   "cell_type": "code",
   "execution_count": 90,
   "outputs": [
    {
     "name": "stdout",
     "output_type": "stream",
     "text": [
      "<class 'pandas.core.frame.DataFrame'>\n",
      "RangeIndex: 25553 entries, 0 to 25552\n",
      "Data columns (total 5 columns):\n",
      " #   Column      Non-Null Count  Dtype \n",
      "---  ------      --------------  ----- \n",
      " 0   Unnamed: 0  25553 non-null  int64 \n",
      " 1   Content ID  25553 non-null  object\n",
      " 2   User ID     22534 non-null  object\n",
      " 3   Type        24573 non-null  object\n",
      " 4   Datetime    25553 non-null  object\n",
      "dtypes: int64(1), object(4)\n",
      "memory usage: 998.3+ KB\n"
     ]
    }
   ],
   "source": [
    "reactions.info()"
   ],
   "metadata": {
    "collapsed": false,
    "ExecuteTime": {
     "end_time": "2024-04-23T19:47:46.709219Z",
     "start_time": "2024-04-23T19:47:46.694359300Z"
    }
   }
  },
  {
   "cell_type": "code",
   "execution_count": 91,
   "outputs": [
    {
     "data": {
      "text/plain": "   Unnamed: 0                            Content ID  \\\n0           0  97522e57-d9ab-4bd6-97bf-c24d952602d2   \n1           1  97522e57-d9ab-4bd6-97bf-c24d952602d2   \n2           2  97522e57-d9ab-4bd6-97bf-c24d952602d2   \n3           3  97522e57-d9ab-4bd6-97bf-c24d952602d2   \n4           4  97522e57-d9ab-4bd6-97bf-c24d952602d2   \n\n                                User ID     Type             Datetime  \n0                                   NaN      NaN  2021-04-22 15:17:15  \n1  5d454588-283d-459d-915d-c48a2cb4c27f  disgust  2020-11-07 09:43:50  \n2  92b87fa5-f271-43e0-af66-84fac21052e6  dislike  2021-06-17 12:22:51  \n3  163daa38-8b77-48c9-9af6-37a6c1447ac2   scared  2021-04-18 05:13:58  \n4  34e8add9-0206-47fd-a501-037b994650a2  disgust  2021-01-06 19:13:01  ",
      "text/html": "<div>\n<style scoped>\n    .dataframe tbody tr th:only-of-type {\n        vertical-align: middle;\n    }\n\n    .dataframe tbody tr th {\n        vertical-align: top;\n    }\n\n    .dataframe thead th {\n        text-align: right;\n    }\n</style>\n<table border=\"1\" class=\"dataframe\">\n  <thead>\n    <tr style=\"text-align: right;\">\n      <th></th>\n      <th>Unnamed: 0</th>\n      <th>Content ID</th>\n      <th>User ID</th>\n      <th>Type</th>\n      <th>Datetime</th>\n    </tr>\n  </thead>\n  <tbody>\n    <tr>\n      <th>0</th>\n      <td>0</td>\n      <td>97522e57-d9ab-4bd6-97bf-c24d952602d2</td>\n      <td>NaN</td>\n      <td>NaN</td>\n      <td>2021-04-22 15:17:15</td>\n    </tr>\n    <tr>\n      <th>1</th>\n      <td>1</td>\n      <td>97522e57-d9ab-4bd6-97bf-c24d952602d2</td>\n      <td>5d454588-283d-459d-915d-c48a2cb4c27f</td>\n      <td>disgust</td>\n      <td>2020-11-07 09:43:50</td>\n    </tr>\n    <tr>\n      <th>2</th>\n      <td>2</td>\n      <td>97522e57-d9ab-4bd6-97bf-c24d952602d2</td>\n      <td>92b87fa5-f271-43e0-af66-84fac21052e6</td>\n      <td>dislike</td>\n      <td>2021-06-17 12:22:51</td>\n    </tr>\n    <tr>\n      <th>3</th>\n      <td>3</td>\n      <td>97522e57-d9ab-4bd6-97bf-c24d952602d2</td>\n      <td>163daa38-8b77-48c9-9af6-37a6c1447ac2</td>\n      <td>scared</td>\n      <td>2021-04-18 05:13:58</td>\n    </tr>\n    <tr>\n      <th>4</th>\n      <td>4</td>\n      <td>97522e57-d9ab-4bd6-97bf-c24d952602d2</td>\n      <td>34e8add9-0206-47fd-a501-037b994650a2</td>\n      <td>disgust</td>\n      <td>2021-01-06 19:13:01</td>\n    </tr>\n  </tbody>\n</table>\n</div>"
     },
     "execution_count": 91,
     "metadata": {},
     "output_type": "execute_result"
    }
   ],
   "source": [
    "reactions.head()"
   ],
   "metadata": {
    "collapsed": false,
    "ExecuteTime": {
     "end_time": "2024-04-23T19:47:47.120920600Z",
     "start_time": "2024-04-23T19:47:47.110408300Z"
    }
   }
  },
  {
   "cell_type": "code",
   "execution_count": 92,
   "outputs": [],
   "source": [
    "reactions = reactions.dropna()"
   ],
   "metadata": {
    "collapsed": false,
    "ExecuteTime": {
     "end_time": "2024-04-23T19:47:47.321577200Z",
     "start_time": "2024-04-23T19:47:47.313166500Z"
    }
   }
  },
  {
   "cell_type": "code",
   "execution_count": 93,
   "outputs": [],
   "source": [
    "reaction_types.drop('Unnamed: 0' , axis=1, inplace=True)"
   ],
   "metadata": {
    "collapsed": false,
    "ExecuteTime": {
     "end_time": "2024-04-23T19:47:47.525125200Z",
     "start_time": "2024-04-23T19:47:47.497798500Z"
    }
   }
  },
  {
   "cell_type": "code",
   "execution_count": 94,
   "outputs": [
    {
     "data": {
      "text/plain": "                             Content ID                               User ID  \\\n0  97522e57-d9ab-4bd6-97bf-c24d952602d2  8d3cd87d-8a31-4935-9a4f-b319bfe05f31   \n1  9f737e0a-3cdd-4d29-9d24-753f4e3be810  beb1f34e-7870-46d6-9fc7-2e12eb83ce43   \n2  230c4e4d-70c3-461d-b42c-ec09396efb3f  a5c65404-5894-4b87-82f2-d787cbee86b4   \n3  356fff80-da4d-4785-9f43-bc1261031dc6  9fb4ce88-fac1-406c-8544-1a899cee7aaf   \n4  01ab84dd-6364-4236-abbb-3f237db77180  e206e31b-5f85-4964-b6ea-d7ee5324def1   \n\n    Type        Category  \n0  photo        Studying  \n1  photo  healthy eating  \n2  photo  healthy eating  \n3  photo      technology  \n4  video            food  ",
      "text/html": "<div>\n<style scoped>\n    .dataframe tbody tr th:only-of-type {\n        vertical-align: middle;\n    }\n\n    .dataframe tbody tr th {\n        vertical-align: top;\n    }\n\n    .dataframe thead th {\n        text-align: right;\n    }\n</style>\n<table border=\"1\" class=\"dataframe\">\n  <thead>\n    <tr style=\"text-align: right;\">\n      <th></th>\n      <th>Content ID</th>\n      <th>User ID</th>\n      <th>Type</th>\n      <th>Category</th>\n    </tr>\n  </thead>\n  <tbody>\n    <tr>\n      <th>0</th>\n      <td>97522e57-d9ab-4bd6-97bf-c24d952602d2</td>\n      <td>8d3cd87d-8a31-4935-9a4f-b319bfe05f31</td>\n      <td>photo</td>\n      <td>Studying</td>\n    </tr>\n    <tr>\n      <th>1</th>\n      <td>9f737e0a-3cdd-4d29-9d24-753f4e3be810</td>\n      <td>beb1f34e-7870-46d6-9fc7-2e12eb83ce43</td>\n      <td>photo</td>\n      <td>healthy eating</td>\n    </tr>\n    <tr>\n      <th>2</th>\n      <td>230c4e4d-70c3-461d-b42c-ec09396efb3f</td>\n      <td>a5c65404-5894-4b87-82f2-d787cbee86b4</td>\n      <td>photo</td>\n      <td>healthy eating</td>\n    </tr>\n    <tr>\n      <th>3</th>\n      <td>356fff80-da4d-4785-9f43-bc1261031dc6</td>\n      <td>9fb4ce88-fac1-406c-8544-1a899cee7aaf</td>\n      <td>photo</td>\n      <td>technology</td>\n    </tr>\n    <tr>\n      <th>4</th>\n      <td>01ab84dd-6364-4236-abbb-3f237db77180</td>\n      <td>e206e31b-5f85-4964-b6ea-d7ee5324def1</td>\n      <td>video</td>\n      <td>food</td>\n    </tr>\n  </tbody>\n</table>\n</div>"
     },
     "execution_count": 94,
     "metadata": {},
     "output_type": "execute_result"
    }
   ],
   "source": [
    "content.head()"
   ],
   "metadata": {
    "collapsed": false,
    "ExecuteTime": {
     "end_time": "2024-04-23T19:47:48.364948300Z",
     "start_time": "2024-04-23T19:47:48.341095300Z"
    }
   }
  },
  {
   "cell_type": "code",
   "execution_count": 95,
   "outputs": [
    {
     "name": "stdout",
     "output_type": "stream",
     "text": [
      "['Studying' 'healthy eating' 'technology' 'food' 'cooking' 'dogs' 'soccer'\n",
      " 'public speaking' 'science' 'tennis' 'travel' 'fitness' 'education'\n",
      " 'studying' 'veganism' 'Animals' 'animals' 'culture' '\"culture\"' 'Fitness'\n",
      " '\"studying\"' 'Veganism' '\"animals\"' 'Travel' '\"soccer\"' 'Education'\n",
      " '\"dogs\"' 'Technology' 'Soccer' '\"tennis\"' 'Culture' '\"food\"' 'Food'\n",
      " '\"technology\"' 'Healthy Eating' '\"cooking\"' 'Science' '\"public speaking\"'\n",
      " '\"veganism\"' 'Public Speaking' '\"science\"']\n"
     ]
    }
   ],
   "source": [
    "unique_content_cat = content['Category'].unique()\n",
    "print(unique_content_cat)"
   ],
   "metadata": {
    "collapsed": false,
    "ExecuteTime": {
     "end_time": "2024-04-23T19:47:49.424537400Z",
     "start_time": "2024-04-23T19:47:49.414128400Z"
    }
   }
  },
  {
   "cell_type": "code",
   "execution_count": 96,
   "outputs": [],
   "source": [
    "content[\"Category\"] = content[\"Category\"].str.strip('\"')\n",
    "content[\"Category\"] = content[\"Category\"].str.lower()"
   ],
   "metadata": {
    "collapsed": false,
    "ExecuteTime": {
     "end_time": "2024-04-23T19:47:49.885594700Z",
     "start_time": "2024-04-23T19:47:49.874825900Z"
    }
   }
  },
  {
   "cell_type": "code",
   "execution_count": 97,
   "outputs": [
    {
     "name": "stdout",
     "output_type": "stream",
     "text": [
      "['studying' 'healthy eating' 'technology' 'food' 'cooking' 'dogs' 'soccer'\n",
      " 'public speaking' 'science' 'tennis' 'travel' 'fitness' 'education'\n",
      " 'veganism' 'animals' 'culture']\n"
     ]
    }
   ],
   "source": [
    "unique_content_cat = content['Category'].unique()\n",
    "print(unique_content_cat)"
   ],
   "metadata": {
    "collapsed": false,
    "ExecuteTime": {
     "end_time": "2024-04-23T19:47:50.108621200Z",
     "start_time": "2024-04-23T19:47:50.098879900Z"
    }
   }
  },
  {
   "cell_type": "code",
   "execution_count": 98,
   "outputs": [],
   "source": [
    "content.drop('User ID' , axis=1, inplace=True)"
   ],
   "metadata": {
    "collapsed": false,
    "ExecuteTime": {
     "end_time": "2024-04-23T19:47:50.295767900Z",
     "start_time": "2024-04-23T19:47:50.284649200Z"
    }
   }
  },
  {
   "cell_type": "code",
   "execution_count": 99,
   "outputs": [
    {
     "data": {
      "text/plain": "                             Content ID   Type        Category\n0  97522e57-d9ab-4bd6-97bf-c24d952602d2  photo        studying\n1  9f737e0a-3cdd-4d29-9d24-753f4e3be810  photo  healthy eating\n2  230c4e4d-70c3-461d-b42c-ec09396efb3f  photo  healthy eating\n3  356fff80-da4d-4785-9f43-bc1261031dc6  photo      technology\n4  01ab84dd-6364-4236-abbb-3f237db77180  video            food",
      "text/html": "<div>\n<style scoped>\n    .dataframe tbody tr th:only-of-type {\n        vertical-align: middle;\n    }\n\n    .dataframe tbody tr th {\n        vertical-align: top;\n    }\n\n    .dataframe thead th {\n        text-align: right;\n    }\n</style>\n<table border=\"1\" class=\"dataframe\">\n  <thead>\n    <tr style=\"text-align: right;\">\n      <th></th>\n      <th>Content ID</th>\n      <th>Type</th>\n      <th>Category</th>\n    </tr>\n  </thead>\n  <tbody>\n    <tr>\n      <th>0</th>\n      <td>97522e57-d9ab-4bd6-97bf-c24d952602d2</td>\n      <td>photo</td>\n      <td>studying</td>\n    </tr>\n    <tr>\n      <th>1</th>\n      <td>9f737e0a-3cdd-4d29-9d24-753f4e3be810</td>\n      <td>photo</td>\n      <td>healthy eating</td>\n    </tr>\n    <tr>\n      <th>2</th>\n      <td>230c4e4d-70c3-461d-b42c-ec09396efb3f</td>\n      <td>photo</td>\n      <td>healthy eating</td>\n    </tr>\n    <tr>\n      <th>3</th>\n      <td>356fff80-da4d-4785-9f43-bc1261031dc6</td>\n      <td>photo</td>\n      <td>technology</td>\n    </tr>\n    <tr>\n      <th>4</th>\n      <td>01ab84dd-6364-4236-abbb-3f237db77180</td>\n      <td>video</td>\n      <td>food</td>\n    </tr>\n  </tbody>\n</table>\n</div>"
     },
     "execution_count": 99,
     "metadata": {},
     "output_type": "execute_result"
    }
   ],
   "source": [
    "content.head()"
   ],
   "metadata": {
    "collapsed": false,
    "ExecuteTime": {
     "end_time": "2024-04-23T19:47:52.134109700Z",
     "start_time": "2024-04-23T19:47:52.126596700Z"
    }
   }
  },
  {
   "cell_type": "code",
   "execution_count": 100,
   "outputs": [
    {
     "data": {
      "text/plain": "         Type Sentiment  Score\n0       heart  positive     60\n1        want  positive     70\n2     disgust  negative      0\n3        hate  negative      5\n4  interested  positive     30",
      "text/html": "<div>\n<style scoped>\n    .dataframe tbody tr th:only-of-type {\n        vertical-align: middle;\n    }\n\n    .dataframe tbody tr th {\n        vertical-align: top;\n    }\n\n    .dataframe thead th {\n        text-align: right;\n    }\n</style>\n<table border=\"1\" class=\"dataframe\">\n  <thead>\n    <tr style=\"text-align: right;\">\n      <th></th>\n      <th>Type</th>\n      <th>Sentiment</th>\n      <th>Score</th>\n    </tr>\n  </thead>\n  <tbody>\n    <tr>\n      <th>0</th>\n      <td>heart</td>\n      <td>positive</td>\n      <td>60</td>\n    </tr>\n    <tr>\n      <th>1</th>\n      <td>want</td>\n      <td>positive</td>\n      <td>70</td>\n    </tr>\n    <tr>\n      <th>2</th>\n      <td>disgust</td>\n      <td>negative</td>\n      <td>0</td>\n    </tr>\n    <tr>\n      <th>3</th>\n      <td>hate</td>\n      <td>negative</td>\n      <td>5</td>\n    </tr>\n    <tr>\n      <th>4</th>\n      <td>interested</td>\n      <td>positive</td>\n      <td>30</td>\n    </tr>\n  </tbody>\n</table>\n</div>"
     },
     "execution_count": 100,
     "metadata": {},
     "output_type": "execute_result"
    }
   ],
   "source": [
    "reaction_types.head()"
   ],
   "metadata": {
    "collapsed": false,
    "ExecuteTime": {
     "end_time": "2024-04-23T19:47:53.255095300Z",
     "start_time": "2024-04-23T19:47:53.246461200Z"
    }
   }
  },
  {
   "cell_type": "code",
   "execution_count": 101,
   "outputs": [
    {
     "data": {
      "text/plain": "   Unnamed: 0                            Content ID  \\\n1           1  97522e57-d9ab-4bd6-97bf-c24d952602d2   \n2           2  97522e57-d9ab-4bd6-97bf-c24d952602d2   \n3           3  97522e57-d9ab-4bd6-97bf-c24d952602d2   \n4           4  97522e57-d9ab-4bd6-97bf-c24d952602d2   \n5           5  97522e57-d9ab-4bd6-97bf-c24d952602d2   \n\n                                User ID        Type             Datetime  \n1  5d454588-283d-459d-915d-c48a2cb4c27f     disgust  2020-11-07 09:43:50  \n2  92b87fa5-f271-43e0-af66-84fac21052e6     dislike  2021-06-17 12:22:51  \n3  163daa38-8b77-48c9-9af6-37a6c1447ac2      scared  2021-04-18 05:13:58  \n4  34e8add9-0206-47fd-a501-037b994650a2     disgust  2021-01-06 19:13:01  \n5  9b6d35f9-5e15-4cd0-a8d7-b1f3340e02c4  interested  2020-08-23 12:25:58  ",
      "text/html": "<div>\n<style scoped>\n    .dataframe tbody tr th:only-of-type {\n        vertical-align: middle;\n    }\n\n    .dataframe tbody tr th {\n        vertical-align: top;\n    }\n\n    .dataframe thead th {\n        text-align: right;\n    }\n</style>\n<table border=\"1\" class=\"dataframe\">\n  <thead>\n    <tr style=\"text-align: right;\">\n      <th></th>\n      <th>Unnamed: 0</th>\n      <th>Content ID</th>\n      <th>User ID</th>\n      <th>Type</th>\n      <th>Datetime</th>\n    </tr>\n  </thead>\n  <tbody>\n    <tr>\n      <th>1</th>\n      <td>1</td>\n      <td>97522e57-d9ab-4bd6-97bf-c24d952602d2</td>\n      <td>5d454588-283d-459d-915d-c48a2cb4c27f</td>\n      <td>disgust</td>\n      <td>2020-11-07 09:43:50</td>\n    </tr>\n    <tr>\n      <th>2</th>\n      <td>2</td>\n      <td>97522e57-d9ab-4bd6-97bf-c24d952602d2</td>\n      <td>92b87fa5-f271-43e0-af66-84fac21052e6</td>\n      <td>dislike</td>\n      <td>2021-06-17 12:22:51</td>\n    </tr>\n    <tr>\n      <th>3</th>\n      <td>3</td>\n      <td>97522e57-d9ab-4bd6-97bf-c24d952602d2</td>\n      <td>163daa38-8b77-48c9-9af6-37a6c1447ac2</td>\n      <td>scared</td>\n      <td>2021-04-18 05:13:58</td>\n    </tr>\n    <tr>\n      <th>4</th>\n      <td>4</td>\n      <td>97522e57-d9ab-4bd6-97bf-c24d952602d2</td>\n      <td>34e8add9-0206-47fd-a501-037b994650a2</td>\n      <td>disgust</td>\n      <td>2021-01-06 19:13:01</td>\n    </tr>\n    <tr>\n      <th>5</th>\n      <td>5</td>\n      <td>97522e57-d9ab-4bd6-97bf-c24d952602d2</td>\n      <td>9b6d35f9-5e15-4cd0-a8d7-b1f3340e02c4</td>\n      <td>interested</td>\n      <td>2020-08-23 12:25:58</td>\n    </tr>\n  </tbody>\n</table>\n</div>"
     },
     "execution_count": 101,
     "metadata": {},
     "output_type": "execute_result"
    }
   ],
   "source": [
    "reactions.head()"
   ],
   "metadata": {
    "collapsed": false,
    "ExecuteTime": {
     "end_time": "2024-04-23T19:49:23.129903500Z",
     "start_time": "2024-04-23T19:49:23.124905800Z"
    }
   }
  },
  {
   "cell_type": "code",
   "execution_count": 103,
   "outputs": [],
   "source": [
    "reactions.drop('User ID', axis=1, inplace=True)\n",
    "reactions.drop('Unnamed: 0', axis=1, inplace=True)"
   ],
   "metadata": {
    "collapsed": false,
    "ExecuteTime": {
     "end_time": "2024-04-23T19:50:58.876233400Z",
     "start_time": "2024-04-23T19:50:58.858616900Z"
    }
   }
  },
  {
   "cell_type": "code",
   "execution_count": 105,
   "outputs": [
    {
     "name": "stdout",
     "output_type": "stream",
     "text": [
      "<class 'pandas.core.frame.DataFrame'>\n",
      "Index: 22534 entries, 1 to 25552\n",
      "Data columns (total 3 columns):\n",
      " #   Column      Non-Null Count  Dtype \n",
      "---  ------      --------------  ----- \n",
      " 0   Content ID  22534 non-null  object\n",
      " 1   Type        22534 non-null  object\n",
      " 2   Datetime    22534 non-null  object\n",
      "dtypes: object(3)\n",
      "memory usage: 704.2+ KB\n"
     ]
    }
   ],
   "source": [
    "reactions.info()"
   ],
   "metadata": {
    "collapsed": false,
    "ExecuteTime": {
     "end_time": "2024-04-23T19:52:50.003239Z",
     "start_time": "2024-04-23T19:52:49.992352100Z"
    }
   }
  },
  {
   "cell_type": "code",
   "execution_count": 106,
   "outputs": [],
   "source": [
    "final_dataset = pd.merge(reactions, reaction_types, on='Type', how='outer')"
   ],
   "metadata": {
    "collapsed": false,
    "ExecuteTime": {
     "end_time": "2024-04-23T20:12:46.524884900Z",
     "start_time": "2024-04-23T20:12:46.510313400Z"
    }
   }
  },
  {
   "cell_type": "code",
   "execution_count": 109,
   "outputs": [
    {
     "name": "stdout",
     "output_type": "stream",
     "text": [
      "<class 'pandas.core.frame.DataFrame'>\n",
      "RangeIndex: 22534 entries, 0 to 22533\n",
      "Data columns (total 5 columns):\n",
      " #   Column      Non-Null Count  Dtype \n",
      "---  ------      --------------  ----- \n",
      " 0   Content ID  22534 non-null  object\n",
      " 1   Type        22534 non-null  object\n",
      " 2   Datetime    22534 non-null  object\n",
      " 3   Sentiment   22534 non-null  object\n",
      " 4   Score       22534 non-null  int64 \n",
      "dtypes: int64(1), object(4)\n",
      "memory usage: 880.4+ KB\n"
     ]
    }
   ],
   "source": [
    "final_dataset.info()"
   ],
   "metadata": {
    "collapsed": false,
    "ExecuteTime": {
     "end_time": "2024-04-23T20:14:24.705995400Z",
     "start_time": "2024-04-23T20:14:24.691178300Z"
    }
   }
  },
  {
   "cell_type": "code",
   "execution_count": 110,
   "outputs": [],
   "source": [
    "final_dataset = pd.merge(final_dataset, content, on='Content ID', how='outer')"
   ],
   "metadata": {
    "collapsed": false,
    "ExecuteTime": {
     "end_time": "2024-04-23T20:15:04.633618900Z",
     "start_time": "2024-04-23T20:15:04.621390800Z"
    }
   }
  },
  {
   "cell_type": "code",
   "execution_count": 111,
   "outputs": [
    {
     "data": {
      "text/plain": "                                 Content ID   Type_x             Datetime  \\\n0      97522e57-d9ab-4bd6-97bf-c24d952602d2  disgust  2020-11-07 09:43:50   \n1      97522e57-d9ab-4bd6-97bf-c24d952602d2  disgust  2021-01-06 19:13:01   \n2      97522e57-d9ab-4bd6-97bf-c24d952602d2  disgust  2021-04-09 02:46:20   \n3      97522e57-d9ab-4bd6-97bf-c24d952602d2  dislike  2021-06-17 12:22:51   \n4      97522e57-d9ab-4bd6-97bf-c24d952602d2  dislike  2020-11-09 02:49:59   \n...                                     ...      ...                  ...   \n22567  daaae2e1-3090-4f64-9d43-b4e4ffbb5c8b      NaN                  NaN   \n22568  4b10bec8-9754-4f5d-b129-a4b6fa030660      NaN                  NaN   \n22569  0bfa4a8c-78be-4f6e-888f-490c47d355ed      NaN                  NaN   \n22570  51199552-05ed-47e5-9c86-6177a406d928      NaN                  NaN   \n22571  b94d8643-4dd8-4f15-a58e-0c9b6691d01a      NaN                  NaN   \n\n      Sentiment  Score Type_y        Category  \n0      negative    0.0  photo        studying  \n1      negative    0.0  photo        studying  \n2      negative    0.0  photo        studying  \n3      negative   10.0  photo        studying  \n4      negative   10.0  photo        studying  \n...         ...    ...    ...             ...  \n22567       NaN    NaN    GIF       education  \n22568       NaN    NaN  photo          tennis  \n22569       NaN    NaN  photo            dogs  \n22570       NaN    NaN  audio         fitness  \n22571       NaN    NaN    GIF  healthy eating  \n\n[22572 rows x 7 columns]",
      "text/html": "<div>\n<style scoped>\n    .dataframe tbody tr th:only-of-type {\n        vertical-align: middle;\n    }\n\n    .dataframe tbody tr th {\n        vertical-align: top;\n    }\n\n    .dataframe thead th {\n        text-align: right;\n    }\n</style>\n<table border=\"1\" class=\"dataframe\">\n  <thead>\n    <tr style=\"text-align: right;\">\n      <th></th>\n      <th>Content ID</th>\n      <th>Type_x</th>\n      <th>Datetime</th>\n      <th>Sentiment</th>\n      <th>Score</th>\n      <th>Type_y</th>\n      <th>Category</th>\n    </tr>\n  </thead>\n  <tbody>\n    <tr>\n      <th>0</th>\n      <td>97522e57-d9ab-4bd6-97bf-c24d952602d2</td>\n      <td>disgust</td>\n      <td>2020-11-07 09:43:50</td>\n      <td>negative</td>\n      <td>0.0</td>\n      <td>photo</td>\n      <td>studying</td>\n    </tr>\n    <tr>\n      <th>1</th>\n      <td>97522e57-d9ab-4bd6-97bf-c24d952602d2</td>\n      <td>disgust</td>\n      <td>2021-01-06 19:13:01</td>\n      <td>negative</td>\n      <td>0.0</td>\n      <td>photo</td>\n      <td>studying</td>\n    </tr>\n    <tr>\n      <th>2</th>\n      <td>97522e57-d9ab-4bd6-97bf-c24d952602d2</td>\n      <td>disgust</td>\n      <td>2021-04-09 02:46:20</td>\n      <td>negative</td>\n      <td>0.0</td>\n      <td>photo</td>\n      <td>studying</td>\n    </tr>\n    <tr>\n      <th>3</th>\n      <td>97522e57-d9ab-4bd6-97bf-c24d952602d2</td>\n      <td>dislike</td>\n      <td>2021-06-17 12:22:51</td>\n      <td>negative</td>\n      <td>10.0</td>\n      <td>photo</td>\n      <td>studying</td>\n    </tr>\n    <tr>\n      <th>4</th>\n      <td>97522e57-d9ab-4bd6-97bf-c24d952602d2</td>\n      <td>dislike</td>\n      <td>2020-11-09 02:49:59</td>\n      <td>negative</td>\n      <td>10.0</td>\n      <td>photo</td>\n      <td>studying</td>\n    </tr>\n    <tr>\n      <th>...</th>\n      <td>...</td>\n      <td>...</td>\n      <td>...</td>\n      <td>...</td>\n      <td>...</td>\n      <td>...</td>\n      <td>...</td>\n    </tr>\n    <tr>\n      <th>22567</th>\n      <td>daaae2e1-3090-4f64-9d43-b4e4ffbb5c8b</td>\n      <td>NaN</td>\n      <td>NaN</td>\n      <td>NaN</td>\n      <td>NaN</td>\n      <td>GIF</td>\n      <td>education</td>\n    </tr>\n    <tr>\n      <th>22568</th>\n      <td>4b10bec8-9754-4f5d-b129-a4b6fa030660</td>\n      <td>NaN</td>\n      <td>NaN</td>\n      <td>NaN</td>\n      <td>NaN</td>\n      <td>photo</td>\n      <td>tennis</td>\n    </tr>\n    <tr>\n      <th>22569</th>\n      <td>0bfa4a8c-78be-4f6e-888f-490c47d355ed</td>\n      <td>NaN</td>\n      <td>NaN</td>\n      <td>NaN</td>\n      <td>NaN</td>\n      <td>photo</td>\n      <td>dogs</td>\n    </tr>\n    <tr>\n      <th>22570</th>\n      <td>51199552-05ed-47e5-9c86-6177a406d928</td>\n      <td>NaN</td>\n      <td>NaN</td>\n      <td>NaN</td>\n      <td>NaN</td>\n      <td>audio</td>\n      <td>fitness</td>\n    </tr>\n    <tr>\n      <th>22571</th>\n      <td>b94d8643-4dd8-4f15-a58e-0c9b6691d01a</td>\n      <td>NaN</td>\n      <td>NaN</td>\n      <td>NaN</td>\n      <td>NaN</td>\n      <td>GIF</td>\n      <td>healthy eating</td>\n    </tr>\n  </tbody>\n</table>\n<p>22572 rows × 7 columns</p>\n</div>"
     },
     "execution_count": 111,
     "metadata": {},
     "output_type": "execute_result"
    }
   ],
   "source": [
    "final_dataset"
   ],
   "metadata": {
    "collapsed": false,
    "ExecuteTime": {
     "end_time": "2024-04-23T20:15:11.383367700Z",
     "start_time": "2024-04-23T20:15:11.379363500Z"
    }
   }
  },
  {
   "cell_type": "code",
   "execution_count": 116,
   "outputs": [],
   "source": [
    "final_dataset.rename(columns={'Sentiment Type': 'Reaction Type', 'Type_y': 'Content Type'}, inplace=True)"
   ],
   "metadata": {
    "collapsed": false,
    "ExecuteTime": {
     "end_time": "2024-04-23T20:19:31.407804100Z",
     "start_time": "2024-04-23T20:19:31.385779400Z"
    }
   }
  },
  {
   "cell_type": "code",
   "execution_count": 117,
   "outputs": [
    {
     "data": {
      "text/plain": "                                 Content ID Reaction Type  \\\n0      97522e57-d9ab-4bd6-97bf-c24d952602d2       disgust   \n1      97522e57-d9ab-4bd6-97bf-c24d952602d2       disgust   \n2      97522e57-d9ab-4bd6-97bf-c24d952602d2       disgust   \n3      97522e57-d9ab-4bd6-97bf-c24d952602d2       dislike   \n4      97522e57-d9ab-4bd6-97bf-c24d952602d2       dislike   \n...                                     ...           ...   \n22567  daaae2e1-3090-4f64-9d43-b4e4ffbb5c8b           NaN   \n22568  4b10bec8-9754-4f5d-b129-a4b6fa030660           NaN   \n22569  0bfa4a8c-78be-4f6e-888f-490c47d355ed           NaN   \n22570  51199552-05ed-47e5-9c86-6177a406d928           NaN   \n22571  b94d8643-4dd8-4f15-a58e-0c9b6691d01a           NaN   \n\n                  Datetime Sentiment  Score Content Type        Category  \n0      2020-11-07 09:43:50  negative    0.0        photo        studying  \n1      2021-01-06 19:13:01  negative    0.0        photo        studying  \n2      2021-04-09 02:46:20  negative    0.0        photo        studying  \n3      2021-06-17 12:22:51  negative   10.0        photo        studying  \n4      2020-11-09 02:49:59  negative   10.0        photo        studying  \n...                    ...       ...    ...          ...             ...  \n22567                  NaN       NaN    NaN          GIF       education  \n22568                  NaN       NaN    NaN        photo          tennis  \n22569                  NaN       NaN    NaN        photo            dogs  \n22570                  NaN       NaN    NaN        audio         fitness  \n22571                  NaN       NaN    NaN          GIF  healthy eating  \n\n[22572 rows x 7 columns]",
      "text/html": "<div>\n<style scoped>\n    .dataframe tbody tr th:only-of-type {\n        vertical-align: middle;\n    }\n\n    .dataframe tbody tr th {\n        vertical-align: top;\n    }\n\n    .dataframe thead th {\n        text-align: right;\n    }\n</style>\n<table border=\"1\" class=\"dataframe\">\n  <thead>\n    <tr style=\"text-align: right;\">\n      <th></th>\n      <th>Content ID</th>\n      <th>Reaction Type</th>\n      <th>Datetime</th>\n      <th>Sentiment</th>\n      <th>Score</th>\n      <th>Content Type</th>\n      <th>Category</th>\n    </tr>\n  </thead>\n  <tbody>\n    <tr>\n      <th>0</th>\n      <td>97522e57-d9ab-4bd6-97bf-c24d952602d2</td>\n      <td>disgust</td>\n      <td>2020-11-07 09:43:50</td>\n      <td>negative</td>\n      <td>0.0</td>\n      <td>photo</td>\n      <td>studying</td>\n    </tr>\n    <tr>\n      <th>1</th>\n      <td>97522e57-d9ab-4bd6-97bf-c24d952602d2</td>\n      <td>disgust</td>\n      <td>2021-01-06 19:13:01</td>\n      <td>negative</td>\n      <td>0.0</td>\n      <td>photo</td>\n      <td>studying</td>\n    </tr>\n    <tr>\n      <th>2</th>\n      <td>97522e57-d9ab-4bd6-97bf-c24d952602d2</td>\n      <td>disgust</td>\n      <td>2021-04-09 02:46:20</td>\n      <td>negative</td>\n      <td>0.0</td>\n      <td>photo</td>\n      <td>studying</td>\n    </tr>\n    <tr>\n      <th>3</th>\n      <td>97522e57-d9ab-4bd6-97bf-c24d952602d2</td>\n      <td>dislike</td>\n      <td>2021-06-17 12:22:51</td>\n      <td>negative</td>\n      <td>10.0</td>\n      <td>photo</td>\n      <td>studying</td>\n    </tr>\n    <tr>\n      <th>4</th>\n      <td>97522e57-d9ab-4bd6-97bf-c24d952602d2</td>\n      <td>dislike</td>\n      <td>2020-11-09 02:49:59</td>\n      <td>negative</td>\n      <td>10.0</td>\n      <td>photo</td>\n      <td>studying</td>\n    </tr>\n    <tr>\n      <th>...</th>\n      <td>...</td>\n      <td>...</td>\n      <td>...</td>\n      <td>...</td>\n      <td>...</td>\n      <td>...</td>\n      <td>...</td>\n    </tr>\n    <tr>\n      <th>22567</th>\n      <td>daaae2e1-3090-4f64-9d43-b4e4ffbb5c8b</td>\n      <td>NaN</td>\n      <td>NaN</td>\n      <td>NaN</td>\n      <td>NaN</td>\n      <td>GIF</td>\n      <td>education</td>\n    </tr>\n    <tr>\n      <th>22568</th>\n      <td>4b10bec8-9754-4f5d-b129-a4b6fa030660</td>\n      <td>NaN</td>\n      <td>NaN</td>\n      <td>NaN</td>\n      <td>NaN</td>\n      <td>photo</td>\n      <td>tennis</td>\n    </tr>\n    <tr>\n      <th>22569</th>\n      <td>0bfa4a8c-78be-4f6e-888f-490c47d355ed</td>\n      <td>NaN</td>\n      <td>NaN</td>\n      <td>NaN</td>\n      <td>NaN</td>\n      <td>photo</td>\n      <td>dogs</td>\n    </tr>\n    <tr>\n      <th>22570</th>\n      <td>51199552-05ed-47e5-9c86-6177a406d928</td>\n      <td>NaN</td>\n      <td>NaN</td>\n      <td>NaN</td>\n      <td>NaN</td>\n      <td>audio</td>\n      <td>fitness</td>\n    </tr>\n    <tr>\n      <th>22571</th>\n      <td>b94d8643-4dd8-4f15-a58e-0c9b6691d01a</td>\n      <td>NaN</td>\n      <td>NaN</td>\n      <td>NaN</td>\n      <td>NaN</td>\n      <td>GIF</td>\n      <td>healthy eating</td>\n    </tr>\n  </tbody>\n</table>\n<p>22572 rows × 7 columns</p>\n</div>"
     },
     "execution_count": 117,
     "metadata": {},
     "output_type": "execute_result"
    }
   ],
   "source": [
    "final_dataset"
   ],
   "metadata": {
    "collapsed": false,
    "ExecuteTime": {
     "end_time": "2024-04-23T20:19:32.074903400Z",
     "start_time": "2024-04-23T20:19:32.068279200Z"
    }
   }
  },
  {
   "cell_type": "code",
   "execution_count": 118,
   "outputs": [],
   "source": [
    "final_dataset.to_csv('finalDataset.csv', index=False)"
   ],
   "metadata": {
    "collapsed": false,
    "ExecuteTime": {
     "end_time": "2024-04-23T20:21:58.617518500Z",
     "start_time": "2024-04-23T20:21:58.562434600Z"
    }
   }
  },
  {
   "cell_type": "code",
   "execution_count": null,
   "outputs": [],
   "source": [],
   "metadata": {
    "collapsed": false
   }
  }
 ],
 "metadata": {
  "kernelspec": {
   "display_name": "Python 3",
   "language": "python",
   "name": "python3"
  },
  "language_info": {
   "codemirror_mode": {
    "name": "ipython",
    "version": 2
   },
   "file_extension": ".py",
   "mimetype": "text/x-python",
   "name": "python",
   "nbconvert_exporter": "python",
   "pygments_lexer": "ipython2",
   "version": "2.7.6"
  }
 },
 "nbformat": 4,
 "nbformat_minor": 0
}
